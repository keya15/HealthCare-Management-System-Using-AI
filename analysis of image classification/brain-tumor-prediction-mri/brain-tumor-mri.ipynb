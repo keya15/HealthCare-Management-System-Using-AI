{
 "cells": [
  {
   "cell_type": "code",
   "execution_count": 15,
   "metadata": {},
   "outputs": [],
   "source": [
    "import tensorflow as tf \n",
    "from keras.preprocessing.image import ImageDataGenerator"
   ]
  },
  {
   "cell_type": "code",
   "execution_count": 16,
   "metadata": {},
   "outputs": [],
   "source": [
    "train_datagen = ImageDataGenerator(rescale = 1./255,\n",
    "                                   shear_range = 0.2,\n",
    "                                   zoom_range = 0.2,\n",
    "                                   horizontal_flip = True)"
   ]
  },
  {
   "cell_type": "code",
   "execution_count": 17,
   "metadata": {},
   "outputs": [
    {
     "name": "stdout",
     "output_type": "stream",
     "text": [
      "Found 195 images belonging to 2 classes.\n"
     ]
    }
   ],
   "source": [
    "training_set = train_datagen.flow_from_directory('dataset/training_set',\n",
    "                                                 target_size = (64, 64),\n",
    "                                                 batch_size = 32,\n",
    "                                                 class_mode = 'binary')"
   ]
  },
  {
   "cell_type": "code",
   "execution_count": 18,
   "metadata": {},
   "outputs": [
    {
     "name": "stdout",
     "output_type": "stream",
     "text": [
      "Found 58 images belonging to 2 classes.\n"
     ]
    }
   ],
   "source": [
    "test_datagen = ImageDataGenerator(rescale = 1./255)\n",
    "test_set = test_datagen.flow_from_directory('dataset/test_set',\n",
    "                                            target_size = (64, 64),\n",
    "                                            batch_size = 32,\n",
    "                                            class_mode = 'binary')"
   ]
  },
  {
   "cell_type": "code",
   "execution_count": 19,
   "metadata": {},
   "outputs": [],
   "source": [
    "cnn = tf.keras.models.Sequential()"
   ]
  },
  {
   "cell_type": "code",
   "execution_count": null,
   "metadata": {},
   "outputs": [],
   "source": []
  },
  {
   "cell_type": "code",
   "execution_count": 20,
   "metadata": {},
   "outputs": [
    {
     "name": "stdout",
     "output_type": "stream",
     "text": [
      "Model: \"sequential_2\"\n",
      "_________________________________________________________________\n",
      " Layer (type)                Output Shape              Param #   \n",
      "=================================================================\n",
      " conv2d_6 (Conv2D)           (None, 62, 62, 32)        896       \n",
      "                                                                 \n",
      " conv2d_7 (Conv2D)           (None, 60, 60, 32)        9248      \n",
      "                                                                 \n",
      " max_pooling2d_4 (MaxPooling  (None, 30, 30, 32)       0         \n",
      " 2D)                                                             \n",
      "                                                                 \n",
      " conv2d_8 (Conv2D)           (None, 28, 28, 64)        18496     \n",
      "                                                                 \n",
      " conv2d_9 (Conv2D)           (None, 26, 26, 64)        36928     \n",
      "                                                                 \n",
      " max_pooling2d_5 (MaxPooling  (None, 13, 13, 64)       0         \n",
      " 2D)                                                             \n",
      "                                                                 \n",
      " global_average_pooling2d_1   (None, 64)               0         \n",
      " (GlobalAveragePooling2D)                                        \n",
      "                                                                 \n",
      " dense_4 (Dense)             (None, 32)                2080      \n",
      "                                                                 \n",
      " dense_5 (Dense)             (None, 1)                 33        \n",
      "                                                                 \n",
      "=================================================================\n",
      "Total params: 67,681\n",
      "Trainable params: 67,681\n",
      "Non-trainable params: 0\n",
      "_________________________________________________________________\n"
     ]
    }
   ],
   "source": [
    "# Step 1 - Convolution\n",
    "cnn.add(tf.keras.layers.Conv2D(filters=32, kernel_size=3, activation='relu', input_shape=[64, 64, 3]))\n",
    "cnn.add(tf.keras.layers.Conv2D(filters=32, kernel_size=3, activation='relu', input_shape=[64, 64, 3]))\n",
    "\n",
    "# Step 2 - Pooling\n",
    "cnn.add(tf.keras.layers.MaxPool2D(pool_size=2, strides=2))\n",
    "\n",
    "# Adding a second convolutional layer\n",
    "cnn.add(tf.keras.layers.Conv2D(filters=64, kernel_size=3, activation='relu'))\n",
    "cnn.add(tf.keras.layers.Conv2D(filters=64, kernel_size=3, activation='relu'))\n",
    "\n",
    "cnn.add(tf.keras.layers.MaxPool2D(pool_size=2, strides=2))\n",
    "\n",
    "\n",
    "# Step 3 - Flattening\n",
    "cnn.add(tf.keras.layers.GlobalAveragePooling2D())\n",
    "\n",
    "# Step 4 - Full Connection\n",
    "cnn.add(tf.keras.layers.Dense(units=32, activation='relu'))\n",
    "\n",
    "# Step 5 - Output Layer\n",
    "cnn.add(tf.keras.layers.Dense(units=1, activation='sigmoid'))\n",
    "\n",
    "# Part 3 - Training the CNN\n",
    "\n",
    "# Compiling the CNN\n",
    "cnn.compile(optimizer = 'adam', loss = 'binary_crossentropy', metrics = ['accuracy'])\n",
    "\n",
    "\n",
    "checkpoint_callback = tf.keras.callbacks.ModelCheckpoint(filepath=\"model.h5\", save_best_only=True)\n",
    "reduce_lr_callback = tf.keras.callbacks.ReduceLROnPlateau(patience=3)\n",
    "early_stopping_callback = tf.keras.callbacks.EarlyStopping(patience=10)\n",
    "tensorboard_callback = tf.keras.callbacks.TensorBoard(log_dir=\"./logs\")\n",
    "\n",
    "clbs = [reduce_lr_callback , early_stopping_callback ]\n",
    "\n",
    "cnn.summary()\n",
    "\n",
    "# Training the CNN on the Training set and evaluating it on the Test set"
   ]
  },
  {
   "cell_type": "code",
   "execution_count": 21,
   "metadata": {},
   "outputs": [
    {
     "name": "stdout",
     "output_type": "stream",
     "text": [
      "Epoch 1/35\n",
      "7/7 [==============================] - 3s 303ms/step - loss: 0.6564 - accuracy: 0.6462 - val_loss: 0.7370 - val_accuracy: 0.5000\n",
      "Epoch 2/35\n",
      "7/7 [==============================] - 2s 244ms/step - loss: 0.6325 - accuracy: 0.6462 - val_loss: 0.7275 - val_accuracy: 0.5000\n",
      "Epoch 3/35\n",
      "7/7 [==============================] - 2s 213ms/step - loss: 0.6211 - accuracy: 0.6462 - val_loss: 0.7142 - val_accuracy: 0.5000\n",
      "Epoch 4/35\n",
      "7/7 [==============================] - 2s 210ms/step - loss: 0.6201 - accuracy: 0.6462 - val_loss: 0.7292 - val_accuracy: 0.5000\n",
      "Epoch 5/35\n",
      "7/7 [==============================] - 1s 199ms/step - loss: 0.6121 - accuracy: 0.6462 - val_loss: 0.6786 - val_accuracy: 0.5000\n",
      "Epoch 6/35\n",
      "7/7 [==============================] - 2s 206ms/step - loss: 0.6230 - accuracy: 0.6462 - val_loss: 0.6704 - val_accuracy: 0.5862\n",
      "Epoch 7/35\n",
      "7/7 [==============================] - 2s 217ms/step - loss: 0.6115 - accuracy: 0.6462 - val_loss: 0.7108 - val_accuracy: 0.5000\n",
      "Epoch 8/35\n",
      "7/7 [==============================] - 2s 217ms/step - loss: 0.6146 - accuracy: 0.6462 - val_loss: 0.6731 - val_accuracy: 0.5000\n",
      "Epoch 9/35\n",
      "7/7 [==============================] - 1s 235ms/step - loss: 0.6142 - accuracy: 0.6821 - val_loss: 0.6524 - val_accuracy: 0.5690\n",
      "Epoch 10/35\n",
      "7/7 [==============================] - 2s 208ms/step - loss: 0.5900 - accuracy: 0.7179 - val_loss: 0.6153 - val_accuracy: 0.6897\n",
      "Epoch 11/35\n",
      "7/7 [==============================] - 2s 211ms/step - loss: 0.6137 - accuracy: 0.6821 - val_loss: 0.6324 - val_accuracy: 0.5690\n",
      "Epoch 12/35\n",
      "7/7 [==============================] - 2s 209ms/step - loss: 0.6080 - accuracy: 0.6615 - val_loss: 0.5981 - val_accuracy: 0.7586\n",
      "Epoch 13/35\n",
      "7/7 [==============================] - 2s 210ms/step - loss: 0.5703 - accuracy: 0.7128 - val_loss: 0.6618 - val_accuracy: 0.6207\n",
      "Epoch 14/35\n",
      "7/7 [==============================] - 2s 213ms/step - loss: 0.5865 - accuracy: 0.7077 - val_loss: 0.6630 - val_accuracy: 0.6207\n",
      "Epoch 15/35\n",
      "7/7 [==============================] - 2s 262ms/step - loss: 0.5655 - accuracy: 0.7179 - val_loss: 0.6288 - val_accuracy: 0.6552\n",
      "Epoch 16/35\n",
      "7/7 [==============================] - 2s 218ms/step - loss: 0.5679 - accuracy: 0.7333 - val_loss: 0.5820 - val_accuracy: 0.6897\n",
      "Epoch 17/35\n",
      "7/7 [==============================] - 2s 206ms/step - loss: 0.5709 - accuracy: 0.7231 - val_loss: 0.6239 - val_accuracy: 0.6552\n",
      "Epoch 18/35\n",
      "7/7 [==============================] - 2s 213ms/step - loss: 0.5779 - accuracy: 0.7385 - val_loss: 0.5934 - val_accuracy: 0.7414\n",
      "Epoch 19/35\n",
      "7/7 [==============================] - 1s 232ms/step - loss: 0.6225 - accuracy: 0.6769 - val_loss: 0.5978 - val_accuracy: 0.6379\n",
      "Epoch 20/35\n",
      "7/7 [==============================] - 2s 259ms/step - loss: 0.5519 - accuracy: 0.7590 - val_loss: 0.6360 - val_accuracy: 0.6552\n",
      "Epoch 21/35\n",
      "7/7 [==============================] - 2s 243ms/step - loss: 0.5618 - accuracy: 0.7231 - val_loss: 0.5969 - val_accuracy: 0.6552\n",
      "Epoch 22/35\n",
      "7/7 [==============================] - 2s 217ms/step - loss: 0.5708 - accuracy: 0.7128 - val_loss: 0.6107 - val_accuracy: 0.6724\n",
      "Epoch 23/35\n",
      "7/7 [==============================] - 2s 216ms/step - loss: 0.5807 - accuracy: 0.7231 - val_loss: 0.5632 - val_accuracy: 0.6897\n",
      "Epoch 24/35\n",
      "7/7 [==============================] - 2s 214ms/step - loss: 0.6230 - accuracy: 0.6410 - val_loss: 0.5678 - val_accuracy: 0.7759\n",
      "Epoch 25/35\n",
      "7/7 [==============================] - 2s 208ms/step - loss: 0.5813 - accuracy: 0.6821 - val_loss: 0.6518 - val_accuracy: 0.6552\n",
      "Epoch 26/35\n",
      "7/7 [==============================] - 2s 211ms/step - loss: 0.5597 - accuracy: 0.7179 - val_loss: 0.5818 - val_accuracy: 0.6379\n",
      "Epoch 27/35\n",
      "7/7 [==============================] - 2s 231ms/step - loss: 0.5517 - accuracy: 0.7282 - val_loss: 0.5916 - val_accuracy: 0.6552\n",
      "Epoch 28/35\n",
      "7/7 [==============================] - 2s 213ms/step - loss: 0.5534 - accuracy: 0.7333 - val_loss: 0.5929 - val_accuracy: 0.6897\n",
      "Epoch 29/35\n",
      "7/7 [==============================] - 2s 209ms/step - loss: 0.5515 - accuracy: 0.7128 - val_loss: 0.6271 - val_accuracy: 0.6552\n",
      "Epoch 30/35\n",
      "7/7 [==============================] - 1s 199ms/step - loss: 0.5516 - accuracy: 0.7436 - val_loss: 0.6071 - val_accuracy: 0.6552\n",
      "Epoch 31/35\n",
      "7/7 [==============================] - 2s 215ms/step - loss: 0.5533 - accuracy: 0.7128 - val_loss: 0.5944 - val_accuracy: 0.6724\n",
      "Epoch 32/35\n",
      "7/7 [==============================] - 2s 225ms/step - loss: 0.5379 - accuracy: 0.7538 - val_loss: 0.5728 - val_accuracy: 0.6724\n",
      "Epoch 33/35\n",
      "7/7 [==============================] - 2s 212ms/step - loss: 0.5300 - accuracy: 0.7436 - val_loss: 0.6051 - val_accuracy: 0.6552\n",
      "Epoch 34/35\n",
      "7/7 [==============================] - 2s 214ms/step - loss: 0.5833 - accuracy: 0.7333 - val_loss: 0.5726 - val_accuracy: 0.6724\n",
      "Epoch 35/35\n",
      "7/7 [==============================] - 2s 208ms/step - loss: 0.5695 - accuracy: 0.7026 - val_loss: 0.5368 - val_accuracy: 0.7586\n"
     ]
    },
    {
     "data": {
      "text/plain": [
       "<keras.callbacks.History at 0x2ef9e5a36a0>"
      ]
     },
     "execution_count": 21,
     "metadata": {},
     "output_type": "execute_result"
    }
   ],
   "source": [
    "cnn.fit(x = training_set, validation_data = test_set, epochs = 35)\n"
   ]
  },
  {
   "cell_type": "code",
   "execution_count": 25,
   "metadata": {},
   "outputs": [
    {
     "name": "stdout",
     "output_type": "stream",
     "text": [
      "1/1 [==============================] - 0s 67ms/step\n",
      "Yes, Brain tumor is present.\n"
     ]
    }
   ],
   "source": [
    "# Part 4 - Making a single prediction\n",
    "\n",
    "import numpy as np\n",
    "# from keras.preprocessing import image\n",
    "import keras.utils as image\n",
    "test_image = image.load_img('dataset/single_prediction/yes_or_no.jpg', target_size = (64, 64))\n",
    "test_image = image.img_to_array(test_image)\n",
    "test_image = np.expand_dims(test_image, axis = 0)\n",
    "result = cnn.predict(test_image)\n",
    "training_set.class_indices\n",
    "if result[0][0] == 1:\n",
    "    prediction = 'Yes, Brain tumor is present.'\n",
    "else:\n",
    "    prediction = 'No, Brain Tumore is absent.'\n",
    "print(prediction)"
   ]
  },
  {
   "cell_type": "code",
   "execution_count": 28,
   "metadata": {},
   "outputs": [
    {
     "name": "stderr",
     "output_type": "stream",
     "text": [
      "WARNING:absl:Found untraced functions such as _jit_compiled_convolution_op, _jit_compiled_convolution_op, _jit_compiled_convolution_op, _jit_compiled_convolution_op while saving (showing 4 of 4). These functions will not be directly callable after loading.\n"
     ]
    },
    {
     "name": "stdout",
     "output_type": "stream",
     "text": [
      "INFO:tensorflow:Assets written to: ram://ff025077-57b2-4212-85df-6d0b9c368467/assets\n"
     ]
    },
    {
     "name": "stderr",
     "output_type": "stream",
     "text": [
      "INFO:tensorflow:Assets written to: ram://ff025077-57b2-4212-85df-6d0b9c368467/assets\n"
     ]
    }
   ],
   "source": [
    "import pickle\n",
    "filename = 'brain-tumor-mri-model.pkl'\n",
    "pickle.dump(cnn, open(filename, 'wb'))"
   ]
  },
  {
   "cell_type": "code",
   "execution_count": null,
   "metadata": {},
   "outputs": [],
   "source": []
  }
 ],
 "metadata": {
  "kernelspec": {
   "display_name": "base",
   "language": "python",
   "name": "python3"
  },
  "language_info": {
   "codemirror_mode": {
    "name": "ipython",
    "version": 3
   },
   "file_extension": ".py",
   "mimetype": "text/x-python",
   "name": "python",
   "nbconvert_exporter": "python",
   "pygments_lexer": "ipython3",
   "version": "3.9.12"
  },
  "orig_nbformat": 4
 },
 "nbformat": 4,
 "nbformat_minor": 2
}
